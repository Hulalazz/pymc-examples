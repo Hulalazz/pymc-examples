{
 "metadata": {
  "name": "pymc-pandas-example"
 }, 
 "nbformat": 2, 
 "worksheets": [
  {
   "cells": [
    {
     "cell_type": "code", 
     "collapsed": true, 
     "input": [
      "import pylab as pl", 
      "import pymc as mc", 
      "import pandas"
     ], 
     "language": "python", 
     "outputs": [], 
     "prompt_number": 6
    }, 
    {
     "cell_type": "markdown", 
     "source": [
      "This example project shows how to fit a fixed effects Poisson model with PyMC.  It uses pandas Series and DataFrame objects to store data in a classy way."
     ]
    }, 
    {
     "cell_type": "code", 
     "collapsed": true, 
     "input": [
      "# simulate data with known distribution", 
      "", 
      "N = 100", 
      "X = pandas.DataFrame({'constant': pl.ones(N), 'cov_1': pl.randn(N)})", 
      "", 
      "beta_true = pandas.Series(dict(constant=100., cov_1=20.))", 
      "mu_true = pl.dot(X, beta_true)", 
      "", 
      "Y = mc.rpoisson(mu_true)"
     ], 
     "language": "python", 
     "outputs": [], 
     "prompt_number": 64
    }, 
    {
     "cell_type": "code", 
     "collapsed": false, 
     "input": [
      "# explore the data a little bit graphically", 
      "", 
      "pl.figure(figsize=(11,4.25))", 
      "", 
      "pl.subplot(1,2,1)", 
      "pl.hist(Y)", 
      "pl.xlabel('Observed Count')", 
      "", 
      "pl.subplot(1,2,2)", 
      "pl.plot(X['cov_1'], Y, '.')", 
      "pl.xlabel('Covariate 1')", 
      "pl.ylabel('Observed Count')"
     ], 
     "language": "python", 
     "outputs": [], 
     "prompt_number": 65
    }, 
    {
     "cell_type": "markdown", 
     "source": [
      "The following code creates a fixed effect Poisson model ", 
      "where the observed data stored in Y is explained by the", 
      "covariate data in X, according to the formula:", 
      "", 
      "$$", 
      "Y_i \\sim \\text{Poisson}(\\mu_i),", 
      "$$", 
      "$$", 
      "\\mu_i = X\\cdot \\beta.", 
      "$$"
     ]
    }, 
    {
     "cell_type": "code", 
     "collapsed": false, 
     "input": [
      "mc.__version__"
     ], 
     "language": "python", 
     "outputs": [], 
     "prompt_number": 127
    }, 
    {
     "cell_type": "code", 
     "collapsed": false, 
     "input": [
      "# the simplest approach doesn't work (with PyMC 2.1alpha)", 
      "", 
      "beta = mc.Uninformative('beta', value=[Y.mean(), 0.])", 
      "mu_pred = mc.Lambda('mu_pred', lambda beta=beta, X=X: pl.dot(X, beta))", 
      "Y_obs = mc.Poisson('Y_obs', mu=mu_pred, value=Y, observed=True)"
     ], 
     "language": "python", 
     "outputs": [], 
     "prompt_number": 128
    }, 
    {
     "cell_type": "code", 
     "collapsed": true, 
     "input": [
      "# if beta.value has type pandas.Series that problem looks resolved, but actually it fails silently", 
      "", 
      "@mc.stochastic", 
      "def beta(value=pandas.Series(dict(constant=Y.mean(), cov_1=0))):", 
      "    return 0.", 
      "    ", 
      "mu_pred = mc.Lambda('mu_pred', lambda beta=beta, X=X: pl.dot(X, beta))"
     ], 
     "language": "python", 
     "outputs": [], 
     "prompt_number": 95
    }, 
    {
     "cell_type": "code", 
     "collapsed": false, 
     "input": [
      "mu_pred.value"
     ], 
     "language": "python", 
     "outputs": [], 
     "prompt_number": 96
    }, 
    {
     "cell_type": "code", 
     "collapsed": true, 
     "input": [
      "# the trick is this: if X is not an argument in the deterministic PyMC can't mess it up", 
      "", 
      "@mc.stochastic", 
      "def beta(value=pandas.Series(dict(constant=Y.mean(), cov_1=0))):", 
      "    return 0.", 
      "", 
      "mu_pred = mc.Lambda('mu_pred', lambda beta=beta: pl.dot(X, beta))", 
      "Y_obs = mc.Poisson('Y_obs', mu=mu_pred, value=Y, observed=True)", 
      "", 
      "m = mc.Model([beta, mu_pred, Y_obs])"
     ], 
     "language": "python", 
     "outputs": [], 
     "prompt_number": 100
    }, 
    {
     "cell_type": "code", 
     "collapsed": false, 
     "input": [
      "mc.MCMC(m).sample(10000, 5000, 5, verbose=1)"
     ], 
     "language": "python", 
     "outputs": [], 
     "prompt_number": 102
    }, 
    {
     "cell_type": "code", 
     "collapsed": false, 
     "input": [
      "beta.stats() # a pandas-centric PyMC would put this in a DataFrame"
     ], 
     "language": "python", 
     "outputs": [], 
     "prompt_number": 104
    }, 
    {
     "cell_type": "code", 
     "collapsed": false, 
     "input": [
      "mc.Matplot.plot(beta, common_scale=False)"
     ], 
     "language": "python", 
     "outputs": [], 
     "prompt_number": 110
    }, 
    {
     "cell_type": "code", 
     "collapsed": false, 
     "input": [
      "beta.value"
     ], 
     "language": "python", 
     "outputs": [], 
     "prompt_number": 118
    }, 
    {
     "cell_type": "code", 
     "collapsed": false, 
     "input": [
      "pandas.DataFrame(beta.trace(), columns=beta.value.index).describe()"
     ], 
     "language": "python", 
     "outputs": [], 
     "prompt_number": 123
    }, 
    {
     "cell_type": "code", 
     "collapsed": true, 
     "input": [], 
     "language": "python", 
     "outputs": [], 
     "prompt_number": "&nbsp;"
    }
   ]
  }
 ]
}