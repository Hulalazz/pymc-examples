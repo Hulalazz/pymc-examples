{
 "metadata": {
  "name": ""
 },
 "nbformat": 3,
 "nbformat_minor": 0,
 "worksheets": [
  {
   "cells": [
    {
     "cell_type": "code",
     "collapsed": false,
     "input": [
      "%pylab inline"
     ],
     "language": "python",
     "metadata": {},
     "outputs": [
      {
       "output_type": "stream",
       "stream": "stdout",
       "text": [
        "Populating the interactive namespace from numpy and matplotlib\n"
       ]
      }
     ],
     "prompt_number": 5
    },
    {
     "cell_type": "code",
     "collapsed": true,
     "input": [
      "import pymc as mc"
     ],
     "language": "python",
     "metadata": {},
     "outputs": [],
     "prompt_number": 6
    },
    {
     "cell_type": "markdown",
     "metadata": {},
     "source": [
      "Parameterizing the Negative Binomial Distribution\n",
      "=======================================================\n",
      "\n",
      "The PyMC docstring for pymc.negative_binomial_like says:\n",
      "\n",
      "Negative binomial log-likelihood. The negative binomial\n",
      "distribution describes a Poisson random variable whose rate\n",
      "parameter is gamma distributed. PyMC's chosen parameterization is\n",
      "based on this mixture interpretation.\n",
      "\n",
      "$$\n",
      "    f(x \\mid \\mu, \\alpha) = \\frac{\\Gamma(x+\\alpha)}{x! \\Gamma(\\alpha)} (\\alpha/(\\mu+\\alpha))^\\alpha (\\mu/(\\mu+\\alpha))^x\n",
      "$$"
     ]
    },
    {
     "cell_type": "markdown",
     "metadata": {},
     "source": [
      "I like calling the first parameter $\\mu$ for mean, but I like calling the second parameter $\\delta$ for dispersion.  And let's call the value $k$ instead of $x$, since it is a count:\n",
      "\n",
      "$$\n",
      "    f(k \\mid \\mu, \\delta) = \\frac{\\Gamma(k+\\delta)}{k! \\Gamma(\\delta)} (\\delta/(\\mu+\\delta))^\\delta (\\mu/(\\mu+\\delta))^k\n",
      "$$"
     ]
    },
    {
     "cell_type": "code",
     "collapsed": false,
     "input": [
      "# plot the log-likelihood of this distribution for a few values of delta\n",
      "\n",
      "x = arange(0,30,.5)\n",
      "mu = 10.\n",
      "for delta in [5., 10., 100.]:\n",
      "    y = [mc.negative_binomial_like(x_i, mu, delta) for x_i in x]\n",
      "    plot(x, y, label='$\\\\delta=%.2f$'%delta, drawstyle='steps-post')\n",
      "legend()"
     ],
     "language": "python",
     "metadata": {},
     "outputs": [
      {
       "metadata": {},
       "output_type": "pyout",
       "prompt_number": 7,
       "text": [
        "<matplotlib.legend.Legend at 0x3266f90>"
       ]
      },
      {
       "metadata": {},
       "output_type": "display_data",
       "png": "[encoded data removed]",
       "text": [
        "<matplotlib.figure.Figure at 0x324e050>"
       ]
      }
     ],
     "prompt_number": 7
    },
    {
     "cell_type": "markdown",
     "metadata": {},
     "source": [
      "I am sure that there is a representation of the negative binomial distribution as a hierarchical model:\n",
      "$$\n",
      "Y \\sim \\text{Poisson}(\\lambda)\n",
      "$$\n",
      "$$\n",
      "\\lambda \\sim \\text{Gamma}(\\alpha, \\beta)\n",
      "$$\n",
      "\n",
      "The PyMC docstring for pymc.gamma_like says the distribution is\n",
      "$$\n",
      "    f(x \\mid \\alpha, \\beta) = \\frac{\\beta^{\\alpha}x^{\\alpha-1}e^{-\\beta x}}{\\Gamma(\\alpha)}\n",
      "$$\n",
      "\n",
      "But since I want to represent the negative binomial as a Poisson with a Gamma-distributed rate, I need to write the distribution of Gamma in terms of $\\mu$ and $\\delta$.\n",
      "\n",
      "\n",
      "I believe that $\\alpha = \\delta$ and $\\beta = \\delta/\\mu$ is the appropriate transformation.  Let's check."
     ]
    },
    {
     "cell_type": "code",
     "collapsed": true,
     "input": [
      "lmb = mc.Gamma('lmb', alpha=delta, beta=delta/mu)\n",
      "Y = mc.Poisson('Y', mu=lmb)\n",
      "\n",
      "mc.MCMC([lmb, Y]).sample(10000, progress_bar=False)"
     ],
     "language": "python",
     "metadata": {},
     "outputs": [],
     "prompt_number": 8
    },
    {
     "cell_type": "code",
     "collapsed": false,
     "input": [
      "# compare hierarchical model to closed form distribution\n",
      "hist(Y.trace(), range(30), histtype='step', label='Observed', normed=True)\n",
      "\n",
      "x = arange(0,30,.5)\n",
      "y = [exp(mc.negative_binomial_like(x_i, mu, delta)) for x_i in x]\n",
      "plot(x, y, drawstyle='steps-post', label='Predicted')\n",
      "\n",
      "legend()"
     ],
     "language": "python",
     "metadata": {},
     "outputs": [
      {
       "metadata": {},
       "output_type": "pyout",
       "prompt_number": 9,
       "text": [
        "<matplotlib.legend.Legend at 0x3377e50>"
       ]
      },
      {
       "metadata": {},
       "output_type": "display_data",
       "png": "[encoded data removed]",
       "text": [
        "<matplotlib.figure.Figure at 0x36ddb90>"
       ]
      }
     ],
     "prompt_number": 9
    },
    {
     "cell_type": "code",
     "collapsed": true,
     "input": [],
     "language": "python",
     "metadata": {},
     "outputs": [],
     "prompt_number": 9
    }
   ],
   "metadata": {}
  }
 ]
}